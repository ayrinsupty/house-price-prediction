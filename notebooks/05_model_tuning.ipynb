{
 "cells": [
  {
   "cell_type": "code",
   "execution_count": 2,
   "id": "aa4268b7",
   "metadata": {},
   "outputs": [],
   "source": [
    "# Imports\n",
    "import pandas as pd\n",
    "import numpy as np\n",
    "from sklearn.tree import DecisionTreeRegressor\n",
    "from sklearn.ensemble import RandomForestRegressor\n",
    "from sklearn.model_selection import GridSearchCV, train_test_split\n",
    "from sklearn.metrics import mean_squared_error, mean_absolute_error, r2_score\n",
    "import joblib\n",
    "import os"
   ]
  },
  {
   "cell_type": "markdown",
   "id": "3f57f450",
   "metadata": {},
   "source": [
    "## 📥 Load Cleaned Data"
   ]
  },
  {
   "cell_type": "code",
   "execution_count": 3,
   "id": "6455a259",
   "metadata": {},
   "outputs": [],
   "source": [
    "# Load cleaned dataset\n",
    "df = pd.read_csv('../data/cleaned/cleaned_data.csv')\n",
    "X = df.drop('SalePrice', axis=1)\n",
    "y = df['SalePrice']\n",
    "\n",
    "# Split into train/test\n",
    "X_train, X_test, y_train, y_test = train_test_split(X, y, test_size=0.2, random_state=42)"
   ]
  },
  {
   "cell_type": "markdown",
   "id": "ef25c9b5",
   "metadata": {},
   "source": [
    "## 🌲 Decision Tree Regressor – GridSearchCV"
   ]
  },
  {
   "cell_type": "code",
   "execution_count": 4,
   "id": "dddc86e5",
   "metadata": {},
   "outputs": [
    {
     "name": "stdout",
     "output_type": "stream",
     "text": [
      "Best Decision Tree Parameters: {'max_depth': 10, 'min_samples_leaf': 2, 'min_samples_split': 10}\n"
     ]
    }
   ],
   "source": [
    "# Define parameter grid\n",
    "dt_params = {\n",
    "    'max_depth': [5, 10, 20, None],\n",
    "    'min_samples_split': [2, 5, 10],\n",
    "    'min_samples_leaf': [1, 2, 4]\n",
    "}\n",
    "\n",
    "# Grid search\n",
    "dt_grid = GridSearchCV(DecisionTreeRegressor(random_state=42), dt_params, cv=5, scoring='r2', n_jobs=-1)\n",
    "dt_grid.fit(X_train, y_train)\n",
    "\n",
    "# Best estimator\n",
    "best_dt = dt_grid.best_estimator_\n",
    "print(\"Best Decision Tree Parameters:\", dt_grid.best_params_)"
   ]
  },
  {
   "cell_type": "markdown",
   "id": "863b3ebc",
   "metadata": {},
   "source": [
    "## 🌳 Random Forest Regressor – GridSearchCV"
   ]
  },
  {
   "cell_type": "code",
   "execution_count": 5,
   "id": "b47df9c7",
   "metadata": {},
   "outputs": [
    {
     "name": "stdout",
     "output_type": "stream",
     "text": [
      "Best Random Forest Parameters: {'max_depth': 20, 'min_samples_leaf': 2, 'min_samples_split': 5, 'n_estimators': 100}\n"
     ]
    }
   ],
   "source": [
    "# Define parameter grid\n",
    "rf_params = {\n",
    "    'n_estimators': [100, 200],\n",
    "    'max_depth': [10, 20, None],\n",
    "    'min_samples_split': [2, 5],\n",
    "    'min_samples_leaf': [1, 2]\n",
    "}\n",
    "\n",
    "# Grid search\n",
    "rf_grid = GridSearchCV(RandomForestRegressor(random_state=42), rf_params, cv=3, scoring='r2', n_jobs=-1)\n",
    "rf_grid.fit(X_train, y_train)\n",
    "\n",
    "# Best estimator\n",
    "best_rf = rf_grid.best_estimator_\n",
    "print(\"Best Random Forest Parameters:\", rf_grid.best_params_)"
   ]
  },
  {
   "cell_type": "markdown",
   "id": "803cc974",
   "metadata": {},
   "source": [
    "## 📊 Model Evaluation"
   ]
  },
  {
   "cell_type": "code",
   "execution_count": 8,
   "id": "d96afd75",
   "metadata": {},
   "outputs": [
    {
     "name": "stdout",
     "output_type": "stream",
     "text": [
      "Tuned Decision Tree -> R²: 0.8202, RMSE: 37137.27, MAE: 25053.69\n",
      "Tuned Random Forest -> R²: 0.8948, RMSE: 28405.01, MAE: 17544.94\n"
     ]
    },
    {
     "data": {
      "text/html": [
       "<div>\n",
       "<style scoped>\n",
       "    .dataframe tbody tr th:only-of-type {\n",
       "        vertical-align: middle;\n",
       "    }\n",
       "\n",
       "    .dataframe tbody tr th {\n",
       "        vertical-align: top;\n",
       "    }\n",
       "\n",
       "    .dataframe thead th {\n",
       "        text-align: right;\n",
       "    }\n",
       "</style>\n",
       "<table border=\"1\" class=\"dataframe\">\n",
       "  <thead>\n",
       "    <tr style=\"text-align: right;\">\n",
       "      <th></th>\n",
       "      <th>Model</th>\n",
       "      <th>R2 Score</th>\n",
       "      <th>RMSE</th>\n",
       "      <th>MAE</th>\n",
       "    </tr>\n",
       "  </thead>\n",
       "  <tbody>\n",
       "    <tr>\n",
       "      <th>0</th>\n",
       "      <td>Tuned Decision Tree</td>\n",
       "      <td>0.820193</td>\n",
       "      <td>37137.265615</td>\n",
       "      <td>25053.692744</td>\n",
       "    </tr>\n",
       "    <tr>\n",
       "      <th>1</th>\n",
       "      <td>Tuned Random Forest</td>\n",
       "      <td>0.894810</td>\n",
       "      <td>28405.012769</td>\n",
       "      <td>17544.942611</td>\n",
       "    </tr>\n",
       "  </tbody>\n",
       "</table>\n",
       "</div>"
      ],
      "text/plain": [
       "                 Model  R2 Score          RMSE           MAE\n",
       "0  Tuned Decision Tree  0.820193  37137.265615  25053.692744\n",
       "1  Tuned Random Forest  0.894810  28405.012769  17544.942611"
      ]
     },
     "execution_count": 8,
     "metadata": {},
     "output_type": "execute_result"
    }
   ],
   "source": [
    "# Evaluate both tuned models\n",
    "def evaluate_model(name, model):\n",
    "    preds = model.predict(X_test)\n",
    "    r2 = r2_score(y_test, preds)\n",
    "    from sklearn.metrics import root_mean_squared_error\n",
    "    rmse = root_mean_squared_error(y_test, preds)\n",
    "    mae = mean_absolute_error(y_test, preds)\n",
    "    print(f\"{name} -> R²: {r2:.4f}, RMSE: {rmse:.2f}, MAE: {mae:.2f}\")\n",
    "    return [r2, rmse, mae]\n",
    "\n",
    "results = {\n",
    "    \"Model\": [],\n",
    "    \"R2 Score\": [],\n",
    "    \"RMSE\": [],\n",
    "    \"MAE\": []\n",
    "}\n",
    "\n",
    "for name, model in [(\"Tuned Decision Tree\", best_dt), (\"Tuned Random Forest\", best_rf)]:\n",
    "    r2, rmse, mae = evaluate_model(name, model)\n",
    "    results[\"Model\"].append(name)\n",
    "    results[\"R2 Score\"].append(r2)\n",
    "    results[\"RMSE\"].append(rmse)\n",
    "    results[\"MAE\"].append(mae)\n",
    "\n",
    "pd.DataFrame(results)"
   ]
  },
  {
   "cell_type": "markdown",
   "id": "b1d7ddae",
   "metadata": {},
   "source": [
    "## 💾 Save Best Models"
   ]
  },
  {
   "cell_type": "code",
   "execution_count": 9,
   "id": "dc2e5ec3",
   "metadata": {},
   "outputs": [
    {
     "name": "stdout",
     "output_type": "stream",
     "text": [
      "✅ Tuned models saved in 'models/tuned/' folder.\n"
     ]
    }
   ],
   "source": [
    "os.makedirs('../models/tuned', exist_ok=True)\n",
    "joblib.dump(best_dt, '../models/tuned/best_decision_tree.pkl')\n",
    "joblib.dump(best_rf, '../models/tuned/best_random_forest.pkl')\n",
    "print(\"✅ Tuned models saved in 'models/tuned/' folder.\")"
   ]
  },
  {
   "cell_type": "code",
   "execution_count": null,
   "id": "07ab1c26",
   "metadata": {},
   "outputs": [],
   "source": []
  }
 ],
 "metadata": {
  "kernelspec": {
   "display_name": "Python 3",
   "language": "python",
   "name": "python3"
  },
  "language_info": {
   "codemirror_mode": {
    "name": "ipython",
    "version": 3
   },
   "file_extension": ".py",
   "mimetype": "text/x-python",
   "name": "python",
   "nbconvert_exporter": "python",
   "pygments_lexer": "ipython3",
   "version": "3.13.3"
  }
 },
 "nbformat": 4,
 "nbformat_minor": 5
}
